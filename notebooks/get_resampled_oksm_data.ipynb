{
 "cells": [
  {
   "cell_type": "markdown",
   "metadata": {},
   "source": [
    "#### This notebook will take all NYSM data for a specified year & resample to model output times (e.g., 1H & 3H)"
   ]
  },
  {
   "cell_type": "code",
   "execution_count": 1,
   "metadata": {},
   "outputs": [
    {
     "name": "stderr",
     "output_type": "stream",
     "text": [
      "Matplotlib created a temporary config/cache directory at /tmp/tmp.uUXKAIYoDF/matplotlib-zgsdhudg because the default path (/home/aevans/.cache/matplotlib) is not a writable directory; it is highly recommended to set the MPLCONFIGDIR environment variable to a writable directory, in particular to speed up the import of Matplotlib and to better support multiprocessing.\n"
     ]
    }
   ],
   "source": [
    "%matplotlib inline\n",
    "import pandas as pd\n",
    "import xarray as xr\n",
    "import glob\n",
    "import numpy as np\n",
    "import metpy.calc as mpcalc\n",
    "from metpy.units import units\n",
    "import datetime \n",
    "import functools as ft"
   ]
  },
  {
   "cell_type": "code",
   "execution_count": 2,
   "metadata": {},
   "outputs": [],
   "source": [
    "def get_raw_oksm_data(year):\n",
    "    oksm_path = f'/home/aevans/landtype/NY_cartopy/csv_city/'\n",
    "    file_dirs = glob.glob(f'{oksm_path}/*')\n",
    "    file_dirs.sort()\n",
    "    df_oksm_list = []\n",
    "    print(f'importing files...')\n",
    "    for x,_ in enumerate(file_dirs):\n",
    "        ds_oksm = pd.read_csv(file_dirs[x])\n",
    "        find_year = ds_oksm.where(ds_oksm['TIME'] < str(year+1))\n",
    "        find_year_r2 = find_year.where(find_year['TIME'] > str(year))\n",
    "        df_oksm_list.append(find_year_r2)\n",
    "\n",
    "    df_oksm = pd.concat(df_oksm_list).dropna()\n",
    "\n",
    "    # import elevations to dataframe\n",
    "    df_lon = pd.read_csv('/home/aevans/landtype/geoinfo.csv')\n",
    "    station_list = df_lon['stid'].tolist()\n",
    "    elev_list = df_lon['elev'].tolist()\n",
    "    lon_list = df_lon['elon'].tolist()\n",
    "    lat_list = df_lon['nlat'].tolist()\n",
    "    elevdict={}\n",
    "    londict={}\n",
    "    latdict={}\n",
    "    for x,_ in enumerate(station_list):\n",
    "        elevdict.update({station_list[x] : elev_list[x]})\n",
    "        londict.update({station_list[x] : lon_list[x]})\n",
    "        latdict.update({station_list[x] : lat_list[x]})\n",
    "    df_oksm['elev'] = df_oksm['STID'].map(elevdict)\n",
    "    df_oksm['lon'] = df_oksm['STID'].map(londict)\n",
    "    df_oksm['lat'] = df_oksm['STID'].map(latdict)\n",
    "\n",
    "    # format variables\n",
    "    temp = units.Quantity(df_oksm['TAIR'].values, 'degC')\n",
    "    relh = df_oksm['RELH'].values/100.\n",
    "    df_oksm['TDEW'] = mpcalc.dewpoint_from_relative_humidity(temp, relh).magnitude\n",
    "    altimeter_value = units.Quantity(df_oksm['PRES'].values, 'hPa')\n",
    "    # + 1.5 to adjust for barometer height\n",
    "    height = units.Quantity(df_oksm['elev'].values + 1.5, 'm')\n",
    "    df_oksm['mslp'] = mpcalc.altimeter_to_sea_level_pressure(altimeter_value, height, temp)\n",
    "    df_oksm['TIME'] = pd.to_datetime(df_oksm['TIME'], format='%Y-%m-%d %H:%M:%S')\n",
    "    df_oksm_ = df_oksm.reset_index(drop=True).set_index(['STID','TIME']).drop(df_oksm.columns[0], axis =1)\n",
    "\n",
    "    oksm_sites = df_oksm.reset_index()['STID'].unique()\n",
    "\n",
    "    return df_oksm_, oksm_sites"
   ]
  },
  {
   "cell_type": "code",
   "execution_count": 3,
   "metadata": {},
   "outputs": [],
   "source": [
    "def get_valid_time_data(df, hours_list, interval):\n",
    "    df = df.reset_index()\n",
    "    freq = interval\n",
    "    df_return = df[(df['TIME'].dt.hour.isin(hours_list)) & (df['TIME'].dt.minute==0)]\n",
    "    # try putting this after concat at end \n",
    "    df_return.set_index(['STID','TIME']).rename_axis(index={'TIME':f'time_{freq}'})\n",
    "    return df_return"
   ]
  },
  {
   "cell_type": "code",
   "execution_count": 4,
   "metadata": {},
   "outputs": [],
   "source": [
    "def get_resampled_precip_data(df, interval, method):\n",
    "    '''\n",
    "    df: main dataframe [pandas dataframe]\n",
    "    interval: the frequency at which the data should be resampled \n",
    "    method: min, max, mean, etc. [str]\n",
    "    '''\n",
    "    precip_diff = df.groupby('STID').diff().reset_index().set_index('TIME')\n",
    "    # remove unrealistic precipitation values (e.g., > 500 mm / 5 min)\n",
    "    precip_diff.loc[precip_diff['RAIN'] > 500.,'RAIN'] = np.nan\n",
    "    return precip_diff.groupby('STID').resample(interval, label='right').apply(method).rename_axis(index={'TIME':f'time_{interval}'})"
   ]
  },
  {
   "cell_type": "code",
   "execution_count": 5,
   "metadata": {},
   "outputs": [],
   "source": [
    "def get_oksm_dataframe_for_resampled(df_oksm, freq):\n",
    "    oksm_vars = ['PRES', 'TAIR', 'TMIN', 'TMAX', 'TDEW',\n",
    "       'RELH', 'WDIR', 'WSPD', 'WMAX', 'RAIN', 'SRAD', 'elev', 'lon', 'lat']\n",
    "    if freq=='1H':\n",
    "        hours_list = np.arange(0,24) # every hour\n",
    "    elif freq=='3H':\n",
    "        hours_list = np.arange(0,24,3) # every 3 hours\n",
    "    dfs = []\n",
    "    \n",
    "    for var in oksm_vars:\n",
    "        if var in ['RAIN']:\n",
    "            print(var)\n",
    "            dfs += [get_resampled_precip_data(df_oksm[var], freq, 'sum')]\n",
    "        else:\n",
    "            print(var)\n",
    "            dfs += [get_valid_time_data(df_oksm[var], hours_list, freq)]\n",
    "\n",
    "    oksm_obs = pd.concat(dfs, axis=1)\n",
    "    oksm_obs['RAIN'] = oksm_obs['RAIN'].apply(lambda x: np.where(x < 0., np.nan, x))\n",
    "    oksm_obs_df=oksm_obs.loc[:,~oksm_obs.columns.duplicated()]\n",
    "    return oksm_obs_df"
   ]
  },
  {
   "cell_type": "code",
   "execution_count": 6,
   "metadata": {},
   "outputs": [],
   "source": [
    "def main(year):\n",
    "    # inputs\n",
    "    save_path = f'/home/aevans/nwp_bias/data/oksm/'\n",
    "\n",
    "    # get the raw nysm data\n",
    "    print('--- get_raw_oksm_data ---')\n",
    "    df_oksm, oksm_sites = get_raw_oksm_data(year)\n",
    "        \n",
    "    # resample the data to 1H and 3H frequencies\n",
    "    print('--- get_oksm_dataframe_for_resampled ---')\n",
    "    oksm_1H_obs = get_oksm_dataframe_for_resampled(df_oksm, '1H')\n",
    "    oksm_3H_obs = get_oksm_dataframe_for_resampled(df_oksm, '3H')\n",
    "    \n",
    "    oksm_1H_obs.to_csv(f'{save_path}oksm_1H_obs_{year}.csv')\n",
    "    oksm_3H_obs.to_csv(f'{save_path}oksm_3H_obs_{year}.csv')"
   ]
  },
  {
   "cell_type": "code",
   "execution_count": 7,
   "metadata": {},
   "outputs": [
    {
     "name": "stdout",
     "output_type": "stream",
     "text": [
      "[2018, 2019, 2020, 2021]\n"
     ]
    }
   ],
   "source": [
    "years = [int(x) for x in np.arange(2018,2022)]\n",
    "print(years)"
   ]
  },
  {
   "cell_type": "code",
   "execution_count": 8,
   "metadata": {},
   "outputs": [
    {
     "name": "stdout",
     "output_type": "stream",
     "text": [
      "2018\n",
      "--- get_raw_oksm_data ---\n",
      "importing files...\n"
     ]
    },
    {
     "name": "stderr",
     "output_type": "stream",
     "text": [
      "/home/aevans/miniconda3/lib/python3.9/site-packages/metpy/calc/thermo.py:1114: RuntimeWarning: invalid value encountered in log\n",
      "  val = np.log(vapor_pressure / mpconsts.nounit.sat_pressure_0c)\n",
      "/home/aevans/miniconda3/lib/python3.9/site-packages/pint/facets/plain/quantity.py:1374: RuntimeWarning: invalid value encountered in power\n",
      "  magnitude = new_self._magnitude**exponent\n"
     ]
    },
    {
     "name": "stdout",
     "output_type": "stream",
     "text": [
      "--- get_oksm_dataframe_for_resampled ---\n",
      "PRES\n",
      "TAIR\n",
      "TMIN\n",
      "TMAX\n",
      "TDEW\n",
      "RELH\n",
      "WDIR\n",
      "WSPD\n",
      "WMAX\n",
      "RAIN\n",
      "SRAD\n",
      "elev\n",
      "lon\n",
      "lat\n",
      "PRES\n",
      "TAIR\n",
      "TMIN\n",
      "TMAX\n",
      "TDEW\n",
      "RELH\n",
      "WDIR\n",
      "WSPD\n",
      "WMAX\n",
      "RAIN\n",
      "SRAD\n",
      "elev\n",
      "lon\n",
      "lat\n",
      "2019\n",
      "--- get_raw_oksm_data ---\n",
      "importing files...\n"
     ]
    },
    {
     "name": "stderr",
     "output_type": "stream",
     "text": [
      "/home/aevans/miniconda3/lib/python3.9/site-packages/metpy/calc/thermo.py:1114: RuntimeWarning: invalid value encountered in log\n",
      "  val = np.log(vapor_pressure / mpconsts.nounit.sat_pressure_0c)\n",
      "/home/aevans/miniconda3/lib/python3.9/site-packages/pint/facets/plain/quantity.py:1374: RuntimeWarning: invalid value encountered in power\n",
      "  magnitude = new_self._magnitude**exponent\n"
     ]
    },
    {
     "name": "stdout",
     "output_type": "stream",
     "text": [
      "--- get_oksm_dataframe_for_resampled ---\n",
      "PRES\n",
      "TAIR\n",
      "TMIN\n",
      "TMAX\n",
      "TDEW\n",
      "RELH\n",
      "WDIR\n",
      "WSPD\n",
      "WMAX\n",
      "RAIN\n",
      "SRAD\n",
      "elev\n",
      "lon\n",
      "lat\n",
      "PRES\n",
      "TAIR\n",
      "TMIN\n",
      "TMAX\n",
      "TDEW\n",
      "RELH\n",
      "WDIR\n",
      "WSPD\n",
      "WMAX\n",
      "RAIN\n",
      "SRAD\n",
      "elev\n",
      "lon\n",
      "lat\n",
      "2020\n",
      "--- get_raw_oksm_data ---\n",
      "importing files...\n"
     ]
    },
    {
     "name": "stderr",
     "output_type": "stream",
     "text": [
      "/home/aevans/miniconda3/lib/python3.9/site-packages/metpy/calc/thermo.py:1114: RuntimeWarning: invalid value encountered in log\n",
      "  val = np.log(vapor_pressure / mpconsts.nounit.sat_pressure_0c)\n",
      "/home/aevans/miniconda3/lib/python3.9/site-packages/pint/facets/plain/quantity.py:1374: RuntimeWarning: invalid value encountered in power\n",
      "  magnitude = new_self._magnitude**exponent\n"
     ]
    },
    {
     "name": "stdout",
     "output_type": "stream",
     "text": [
      "--- get_oksm_dataframe_for_resampled ---\n",
      "PRES\n",
      "TAIR\n",
      "TMIN\n",
      "TMAX\n",
      "TDEW\n",
      "RELH\n",
      "WDIR\n",
      "WSPD\n",
      "WMAX\n",
      "RAIN\n",
      "SRAD\n",
      "elev\n",
      "lon\n",
      "lat\n",
      "PRES\n",
      "TAIR\n",
      "TMIN\n",
      "TMAX\n",
      "TDEW\n",
      "RELH\n",
      "WDIR\n",
      "WSPD\n",
      "WMAX\n",
      "RAIN\n",
      "SRAD\n",
      "elev\n",
      "lon\n",
      "lat\n",
      "2021\n",
      "--- get_raw_oksm_data ---\n",
      "importing files...\n"
     ]
    },
    {
     "name": "stderr",
     "output_type": "stream",
     "text": [
      "/home/aevans/miniconda3/lib/python3.9/site-packages/metpy/calc/thermo.py:1114: RuntimeWarning: invalid value encountered in log\n",
      "  val = np.log(vapor_pressure / mpconsts.nounit.sat_pressure_0c)\n",
      "/home/aevans/miniconda3/lib/python3.9/site-packages/pint/facets/plain/quantity.py:1374: RuntimeWarning: invalid value encountered in power\n",
      "  magnitude = new_self._magnitude**exponent\n"
     ]
    },
    {
     "name": "stdout",
     "output_type": "stream",
     "text": [
      "--- get_oksm_dataframe_for_resampled ---\n",
      "PRES\n",
      "TAIR\n",
      "TMIN\n",
      "TMAX\n",
      "TDEW\n",
      "RELH\n",
      "WDIR\n",
      "WSPD\n",
      "WMAX\n",
      "RAIN\n",
      "SRAD\n",
      "elev\n",
      "lon\n",
      "lat\n",
      "PRES\n",
      "TAIR\n",
      "TMIN\n",
      "TMAX\n",
      "TDEW\n",
      "RELH\n",
      "WDIR\n",
      "WSPD\n",
      "WMAX\n",
      "RAIN\n",
      "SRAD\n",
      "elev\n",
      "lon\n",
      "lat\n"
     ]
    }
   ],
   "source": [
    "for year in years:\n",
    "    print(year)\n",
    "    main(year)"
   ]
  }
 ],
 "metadata": {
  "kernelspec": {
   "display_name": "Python 3.9.13 ('base': conda)",
   "language": "python",
   "name": "python3"
  },
  "language_info": {
   "codemirror_mode": {
    "name": "ipython",
    "version": 3
   },
   "file_extension": ".py",
   "mimetype": "text/x-python",
   "name": "python",
   "nbconvert_exporter": "python",
   "pygments_lexer": "ipython3",
   "version": "3.9.13"
  },
  "orig_nbformat": 4,
  "vscode": {
   "interpreter": {
    "hash": "44818f36aeaf89db1a1d21a2bee6031a28b4e41595a65903b38b9b0c4417365f"
   }
  }
 },
 "nbformat": 4,
 "nbformat_minor": 2
}
